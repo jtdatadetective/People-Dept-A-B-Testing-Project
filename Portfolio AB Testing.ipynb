{
 "cells": [
  {
   "cell_type": "markdown",
   "metadata": {},
   "source": [
    "# A/B Testing \n",
    "\n",
    "- [Introduction](#intro)\n",
    "- [Part I - Data Inspection & Cleaning](#cleaning)\n",
    "- [Part II - A/B Test](#ab_test)\n",
    "- [Part III - Conclusion](#conclusion)\n",
    "\n",
    "\n",
    "<a id='intro'></a>\n",
    "## Introduction\n",
    "\n",
    "A/B tests are very commonly performed by data analysts to test for statistical significance between two means and whether a difference occurred by chance. For this project, I will be utilizing A/B testing to help the People Department of a fictitious company determine if their recruiting efforts are significantly different with application process 1 vs. application process 2.  \n",
    "\n",
    "Scenario: The company is having trouble recruiting for an hourly position with a tight labor market and competitive wages and they want to ensure that the current application process is not dissuading applicants due to its complexity.  They have developed a new simplified application process and they want to test it to see if it helps to increase applications.  \n",
    "\n",
    "For this analysis, application process 1 is the existing online process being used and will be the control group.  The new simplified online process - application process 2 - will be the treatment group.  Applicants during the test period were randomly directed from the company's career page to either the control group application page or to the treatment group application page to complete the process.  Converted (1) indicates that the user completed the application process, whereas (0) indicates that the user abandoned the process and did not submit an application.\n",
    "\n",
    "In this project, the null hypothesis is that the rate of conversions for application process 1 is the same or better than that of application process 2.  The alternative hypothesis is that the conversion rate is higher for the new application process - the treatment group.  The goal of this analysis is to use statistics to reject/not reject the null hypothesis in order to assist the company in deciding which application process to use going forward.\n",
    "\n",
    "*Note: Data sourced from Kaggle https://www.kaggle.com/datasets/zhangluyuan/ab-testing.  Data was modified to fit the needs of this analysis.*"
   ]
  },
  {
   "cell_type": "markdown",
   "metadata": {},
   "source": [
    "<a id='cleaning'></a>\n",
    "## Part I - Data Inspection & Cleaning"
   ]
  },
  {
   "cell_type": "code",
   "execution_count": 1,
   "metadata": {},
   "outputs": [],
   "source": [
    "import pandas as pd\n",
    "import numpy as np\n",
    "import seaborn as sns\n",
    "sns.set_theme()\n",
    "import scipy.stats as ss\n",
    "import matplotlib.pyplot as plt\n",
    "%matplotlib inline"
   ]
  },
  {
   "cell_type": "markdown",
   "metadata": {},
   "source": [
    "First, I will read in the data using pandas and investigate the data to get some basic information and understanding.  "
   ]
  },
  {
   "cell_type": "code",
   "execution_count": 2,
   "metadata": {},
   "outputs": [
    {
     "data": {
      "text/html": [
       "<div>\n",
       "<style scoped>\n",
       "    .dataframe tbody tr th:only-of-type {\n",
       "        vertical-align: middle;\n",
       "    }\n",
       "\n",
       "    .dataframe tbody tr th {\n",
       "        vertical-align: top;\n",
       "    }\n",
       "\n",
       "    .dataframe thead th {\n",
       "        text-align: right;\n",
       "    }\n",
       "</style>\n",
       "<table border=\"1\" class=\"dataframe\">\n",
       "  <thead>\n",
       "    <tr style=\"text-align: right;\">\n",
       "      <th></th>\n",
       "      <th>user_id</th>\n",
       "      <th>timestamp</th>\n",
       "      <th>group</th>\n",
       "      <th>converted</th>\n",
       "      <th>hired</th>\n",
       "    </tr>\n",
       "  </thead>\n",
       "  <tbody>\n",
       "    <tr>\n",
       "      <th>0</th>\n",
       "      <td>864975</td>\n",
       "      <td>1/21/17 10:11 PM</td>\n",
       "      <td>control</td>\n",
       "      <td>1</td>\n",
       "      <td>1</td>\n",
       "    </tr>\n",
       "    <tr>\n",
       "      <th>1</th>\n",
       "      <td>644214</td>\n",
       "      <td>1/12/17 8:01 AM</td>\n",
       "      <td>control</td>\n",
       "      <td>1</td>\n",
       "      <td>1</td>\n",
       "    </tr>\n",
       "    <tr>\n",
       "      <th>2</th>\n",
       "      <td>913579</td>\n",
       "      <td>1/11/17 4:55 PM</td>\n",
       "      <td>control</td>\n",
       "      <td>1</td>\n",
       "      <td>1</td>\n",
       "    </tr>\n",
       "    <tr>\n",
       "      <th>3</th>\n",
       "      <td>831737</td>\n",
       "      <td>1/8/17 6:28 PM</td>\n",
       "      <td>control</td>\n",
       "      <td>1</td>\n",
       "      <td>1</td>\n",
       "    </tr>\n",
       "    <tr>\n",
       "      <th>4</th>\n",
       "      <td>862225</td>\n",
       "      <td>1/21/17 1:52 AM</td>\n",
       "      <td>control</td>\n",
       "      <td>1</td>\n",
       "      <td>1</td>\n",
       "    </tr>\n",
       "  </tbody>\n",
       "</table>\n",
       "</div>"
      ],
      "text/plain": [
       "   user_id         timestamp    group  converted  hired\n",
       "0   864975  1/21/17 10:11 PM  control          1      1\n",
       "1   644214   1/12/17 8:01 AM  control          1      1\n",
       "2   913579   1/11/17 4:55 PM  control          1      1\n",
       "3   831737    1/8/17 6:28 PM  control          1      1\n",
       "4   862225   1/21/17 1:52 AM  control          1      1"
      ]
     },
     "execution_count": 2,
     "metadata": {},
     "output_type": "execute_result"
    }
   ],
   "source": [
    "#read in data & view top rows\n",
    "df = pd.read_csv('ab_data.csv')\n",
    "df.head()"
   ]
  },
  {
   "cell_type": "markdown",
   "metadata": {},
   "source": [
    "The data contains the following fields:  \n",
    "<pre>\n",
    "user_id   - unique id of the user that visited the company's career page\n",
    "timestamp - the date and time the user visited the company's career page\n",
    "group     - control indicates application process 1 and treatment indicates application process 2\n",
    "converted - indicates whether the user submitted an application (1) or not (0)\n",
    "hired     - additional data from HRMS indicating if candidate was ultimately hired\n",
    "</pre>"
   ]
  },
  {
   "cell_type": "code",
   "execution_count": 3,
   "metadata": {},
   "outputs": [
    {
     "data": {
      "text/plain": [
       "user_id       int64\n",
       "timestamp    object\n",
       "group        object\n",
       "converted     int64\n",
       "hired         int64\n",
       "dtype: object"
      ]
     },
     "execution_count": 3,
     "metadata": {},
     "output_type": "execute_result"
    }
   ],
   "source": [
    "#check data types\n",
    "df.dtypes"
   ]
  },
  {
   "cell_type": "code",
   "execution_count": 4,
   "metadata": {},
   "outputs": [
    {
     "data": {
      "text/plain": [
       "user_id               int64\n",
       "timestamp    datetime64[ns]\n",
       "group                object\n",
       "converted             int64\n",
       "hired                 int64\n",
       "dtype: object"
      ]
     },
     "execution_count": 4,
     "metadata": {},
     "output_type": "execute_result"
    }
   ],
   "source": [
    "#convert timestamp field to a timestamp data type\n",
    "df['timestamp'] = pd.to_datetime(df['timestamp'])\n",
    "df.dtypes"
   ]
  },
  {
   "cell_type": "code",
   "execution_count": 5,
   "metadata": {},
   "outputs": [
    {
     "data": {
      "text/plain": [
       "21.999305555555555"
      ]
     },
     "execution_count": 5,
     "metadata": {},
     "output_type": "execute_result"
    }
   ],
   "source": [
    "#Calculate length of test in days\n",
    "min_date = df['timestamp'].min()\n",
    "max_date = df['timestamp'].max()\n",
    "duration = (max_date - min_date) / pd.Timedelta(days=1)\n",
    "duration"
   ]
  },
  {
   "cell_type": "code",
   "execution_count": 6,
   "metadata": {},
   "outputs": [
    {
     "data": {
      "text/plain": [
       "(294478, 5)"
      ]
     },
     "execution_count": 6,
     "metadata": {},
     "output_type": "execute_result"
    }
   ],
   "source": [
    "#get number of rows/columns\n",
    "df.shape"
   ]
  },
  {
   "cell_type": "code",
   "execution_count": 7,
   "metadata": {},
   "outputs": [
    {
     "name": "stdout",
     "output_type": "stream",
     "text": [
      "<class 'pandas.core.frame.DataFrame'>\n",
      "RangeIndex: 294478 entries, 0 to 294477\n",
      "Data columns (total 5 columns):\n",
      " #   Column     Non-Null Count   Dtype         \n",
      "---  ------     --------------   -----         \n",
      " 0   user_id    294478 non-null  int64         \n",
      " 1   timestamp  294478 non-null  datetime64[ns]\n",
      " 2   group      294478 non-null  object        \n",
      " 3   converted  294478 non-null  int64         \n",
      " 4   hired      294478 non-null  int64         \n",
      "dtypes: datetime64[ns](1), int64(3), object(1)\n",
      "memory usage: 11.2+ MB\n"
     ]
    }
   ],
   "source": [
    "#check for missing values\n",
    "df.info()"
   ]
  },
  {
   "cell_type": "code",
   "execution_count": 8,
   "metadata": {},
   "outputs": [
    {
     "data": {
      "text/plain": [
       "290584"
      ]
     },
     "execution_count": 8,
     "metadata": {},
     "output_type": "execute_result"
    }
   ],
   "source": [
    "#get number of unique users in dataset\n",
    "df['user_id'].nunique()"
   ]
  },
  {
   "cell_type": "markdown",
   "metadata": {},
   "source": [
    "### Dealing with Duplicates\n",
    "There are 290,584 unique user ids and 294,478 records, which means there are duplicate ids in the data.  The duplicate ids will be investigated to determine how to properly treat that data."
   ]
  },
  {
   "cell_type": "code",
   "execution_count": 9,
   "metadata": {},
   "outputs": [
    {
     "data": {
      "text/html": [
       "<div>\n",
       "<style scoped>\n",
       "    .dataframe tbody tr th:only-of-type {\n",
       "        vertical-align: middle;\n",
       "    }\n",
       "\n",
       "    .dataframe tbody tr th {\n",
       "        vertical-align: top;\n",
       "    }\n",
       "\n",
       "    .dataframe thead th {\n",
       "        text-align: right;\n",
       "    }\n",
       "</style>\n",
       "<table border=\"1\" class=\"dataframe\">\n",
       "  <thead>\n",
       "    <tr style=\"text-align: right;\">\n",
       "      <th></th>\n",
       "      <th>user_id</th>\n",
       "      <th>timestamp</th>\n",
       "      <th>group</th>\n",
       "      <th>converted</th>\n",
       "      <th>hired</th>\n",
       "    </tr>\n",
       "  </thead>\n",
       "  <tbody>\n",
       "    <tr>\n",
       "      <th>30412</th>\n",
       "      <td>630052</td>\n",
       "      <td>2017-01-14 08:13:00</td>\n",
       "      <td>treatment</td>\n",
       "      <td>1</td>\n",
       "      <td>0</td>\n",
       "    </tr>\n",
       "    <tr>\n",
       "      <th>266199</th>\n",
       "      <td>630052</td>\n",
       "      <td>2017-01-12 11:57:00</td>\n",
       "      <td>treatment</td>\n",
       "      <td>0</td>\n",
       "      <td>0</td>\n",
       "    </tr>\n",
       "    <tr>\n",
       "      <th>275673</th>\n",
       "      <td>630126</td>\n",
       "      <td>2017-01-08 19:03:00</td>\n",
       "      <td>treatment</td>\n",
       "      <td>0</td>\n",
       "      <td>0</td>\n",
       "    </tr>\n",
       "    <tr>\n",
       "      <th>174614</th>\n",
       "      <td>630126</td>\n",
       "      <td>2017-01-07 03:25:00</td>\n",
       "      <td>treatment</td>\n",
       "      <td>0</td>\n",
       "      <td>0</td>\n",
       "    </tr>\n",
       "    <tr>\n",
       "      <th>115685</th>\n",
       "      <td>630137</td>\n",
       "      <td>2017-01-20 03:26:00</td>\n",
       "      <td>control</td>\n",
       "      <td>0</td>\n",
       "      <td>0</td>\n",
       "    </tr>\n",
       "    <tr>\n",
       "      <th>40437</th>\n",
       "      <td>630137</td>\n",
       "      <td>2017-01-02 23:31:00</td>\n",
       "      <td>control</td>\n",
       "      <td>0</td>\n",
       "      <td>0</td>\n",
       "    </tr>\n",
       "    <tr>\n",
       "      <th>126144</th>\n",
       "      <td>630320</td>\n",
       "      <td>2017-01-24 07:07:00</td>\n",
       "      <td>control</td>\n",
       "      <td>0</td>\n",
       "      <td>0</td>\n",
       "    </tr>\n",
       "    <tr>\n",
       "      <th>277448</th>\n",
       "      <td>630320</td>\n",
       "      <td>2017-01-14 16:33:00</td>\n",
       "      <td>treatment</td>\n",
       "      <td>0</td>\n",
       "      <td>0</td>\n",
       "    </tr>\n",
       "    <tr>\n",
       "      <th>77798</th>\n",
       "      <td>630471</td>\n",
       "      <td>2017-01-10 21:23:00</td>\n",
       "      <td>control</td>\n",
       "      <td>0</td>\n",
       "      <td>0</td>\n",
       "    </tr>\n",
       "    <tr>\n",
       "      <th>83850</th>\n",
       "      <td>630471</td>\n",
       "      <td>2017-01-19 05:04:00</td>\n",
       "      <td>control</td>\n",
       "      <td>0</td>\n",
       "      <td>0</td>\n",
       "    </tr>\n",
       "    <tr>\n",
       "      <th>123586</th>\n",
       "      <td>630780</td>\n",
       "      <td>2017-01-07 03:18:00</td>\n",
       "      <td>control</td>\n",
       "      <td>0</td>\n",
       "      <td>0</td>\n",
       "    </tr>\n",
       "    <tr>\n",
       "      <th>35772</th>\n",
       "      <td>630780</td>\n",
       "      <td>2017-01-03 05:10:00</td>\n",
       "      <td>control</td>\n",
       "      <td>0</td>\n",
       "      <td>0</td>\n",
       "    </tr>\n",
       "    <tr>\n",
       "      <th>26450</th>\n",
       "      <td>630785</td>\n",
       "      <td>2017-01-14 16:56:00</td>\n",
       "      <td>treatment</td>\n",
       "      <td>1</td>\n",
       "      <td>0</td>\n",
       "    </tr>\n",
       "    <tr>\n",
       "      <th>260301</th>\n",
       "      <td>630785</td>\n",
       "      <td>2017-01-13 13:12:00</td>\n",
       "      <td>treatment</td>\n",
       "      <td>0</td>\n",
       "      <td>0</td>\n",
       "    </tr>\n",
       "    <tr>\n",
       "      <th>52650</th>\n",
       "      <td>630805</td>\n",
       "      <td>2017-01-03 18:36:00</td>\n",
       "      <td>control</td>\n",
       "      <td>0</td>\n",
       "      <td>0</td>\n",
       "    </tr>\n",
       "    <tr>\n",
       "      <th>197086</th>\n",
       "      <td>630805</td>\n",
       "      <td>2017-01-08 09:51:00</td>\n",
       "      <td>treatment</td>\n",
       "      <td>0</td>\n",
       "      <td>0</td>\n",
       "    </tr>\n",
       "    <tr>\n",
       "      <th>172875</th>\n",
       "      <td>630871</td>\n",
       "      <td>2017-01-04 08:52:00</td>\n",
       "      <td>treatment</td>\n",
       "      <td>0</td>\n",
       "      <td>0</td>\n",
       "    </tr>\n",
       "    <tr>\n",
       "      <th>128943</th>\n",
       "      <td>630871</td>\n",
       "      <td>2017-01-15 16:30:00</td>\n",
       "      <td>control</td>\n",
       "      <td>0</td>\n",
       "      <td>0</td>\n",
       "    </tr>\n",
       "    <tr>\n",
       "      <th>47578</th>\n",
       "      <td>630887</td>\n",
       "      <td>2017-01-13 01:54:00</td>\n",
       "      <td>control</td>\n",
       "      <td>0</td>\n",
       "      <td>0</td>\n",
       "    </tr>\n",
       "    <tr>\n",
       "      <th>215196</th>\n",
       "      <td>630887</td>\n",
       "      <td>2017-01-14 13:41:00</td>\n",
       "      <td>treatment</td>\n",
       "      <td>0</td>\n",
       "      <td>0</td>\n",
       "    </tr>\n",
       "  </tbody>\n",
       "</table>\n",
       "</div>"
      ],
      "text/plain": [
       "        user_id           timestamp      group  converted  hired\n",
       "30412    630052 2017-01-14 08:13:00  treatment          1      0\n",
       "266199   630052 2017-01-12 11:57:00  treatment          0      0\n",
       "275673   630126 2017-01-08 19:03:00  treatment          0      0\n",
       "174614   630126 2017-01-07 03:25:00  treatment          0      0\n",
       "115685   630137 2017-01-20 03:26:00    control          0      0\n",
       "40437    630137 2017-01-02 23:31:00    control          0      0\n",
       "126144   630320 2017-01-24 07:07:00    control          0      0\n",
       "277448   630320 2017-01-14 16:33:00  treatment          0      0\n",
       "77798    630471 2017-01-10 21:23:00    control          0      0\n",
       "83850    630471 2017-01-19 05:04:00    control          0      0\n",
       "123586   630780 2017-01-07 03:18:00    control          0      0\n",
       "35772    630780 2017-01-03 05:10:00    control          0      0\n",
       "26450    630785 2017-01-14 16:56:00  treatment          1      0\n",
       "260301   630785 2017-01-13 13:12:00  treatment          0      0\n",
       "52650    630805 2017-01-03 18:36:00    control          0      0\n",
       "197086   630805 2017-01-08 09:51:00  treatment          0      0\n",
       "172875   630871 2017-01-04 08:52:00  treatment          0      0\n",
       "128943   630871 2017-01-15 16:30:00    control          0      0\n",
       "47578    630887 2017-01-13 01:54:00    control          0      0\n",
       "215196   630887 2017-01-14 13:41:00  treatment          0      0"
      ]
     },
     "execution_count": 9,
     "metadata": {},
     "output_type": "execute_result"
    }
   ],
   "source": [
    "#create a subfile of duplicate records\n",
    "dups = df[df['user_id'].duplicated(keep=False)]\n",
    "dups_sorted = dups.sort_values(by='user_id')\n",
    "dups_sorted.head(20)"
   ]
  },
  {
   "cell_type": "code",
   "execution_count": 10,
   "metadata": {},
   "outputs": [
    {
     "data": {
      "text/plain": [
       "7788"
      ]
     },
     "execution_count": 10,
     "metadata": {},
     "output_type": "execute_result"
    }
   ],
   "source": [
    "#identify number of duplicate rows\n",
    "dups_sorted.shape[0]"
   ]
  },
  {
   "cell_type": "markdown",
   "metadata": {},
   "source": [
    "What we can see from the above is that we have multiple situations: \n",
    "\n",
    "- Situation 1: The user visited the site multiple times and was erroneously sent to both the control process and the treatment process.  In order to ensure accuracy and not allow these records to skew the results, any users who saw both processes will be eliminated from the data.  \n",
    "- Situation 2: The user visited the site multiple times; if they converted, it appears they did so on the most recent visit to the site.  So perhaps they visited the career page and looked at the job specifics, but then decided they needed to gather their application information before proceeding.  With 7,788 rows of duplicate data, we would need to investigate further to see if that assumption holds true.  For purposes of this analysis, we will assume that to be true and only keep the most recent visit.  Obviously, this will vary depending on the specifics of the situation.  "
   ]
  },
  {
   "cell_type": "markdown",
   "metadata": {},
   "source": [
    "### Removing User Records for Situation 1"
   ]
  },
  {
   "cell_type": "code",
   "execution_count": 11,
   "metadata": {},
   "outputs": [
    {
     "data": {
      "text/html": [
       "<div>\n",
       "<style scoped>\n",
       "    .dataframe tbody tr th:only-of-type {\n",
       "        vertical-align: middle;\n",
       "    }\n",
       "\n",
       "    .dataframe tbody tr th {\n",
       "        vertical-align: top;\n",
       "    }\n",
       "\n",
       "    .dataframe thead th {\n",
       "        text-align: right;\n",
       "    }\n",
       "</style>\n",
       "<table border=\"1\" class=\"dataframe\">\n",
       "  <thead>\n",
       "    <tr style=\"text-align: right;\">\n",
       "      <th></th>\n",
       "      <th>user_id</th>\n",
       "      <th>timestamp</th>\n",
       "      <th>group</th>\n",
       "      <th>converted</th>\n",
       "      <th>hired</th>\n",
       "    </tr>\n",
       "  </thead>\n",
       "  <tbody>\n",
       "    <tr>\n",
       "      <th>30412</th>\n",
       "      <td>630052</td>\n",
       "      <td>2017-01-14 08:13:00</td>\n",
       "      <td>treatment</td>\n",
       "      <td>1</td>\n",
       "      <td>0</td>\n",
       "    </tr>\n",
       "    <tr>\n",
       "      <th>266199</th>\n",
       "      <td>630052</td>\n",
       "      <td>2017-01-12 11:57:00</td>\n",
       "      <td>treatment</td>\n",
       "      <td>0</td>\n",
       "      <td>0</td>\n",
       "    </tr>\n",
       "    <tr>\n",
       "      <th>275673</th>\n",
       "      <td>630126</td>\n",
       "      <td>2017-01-08 19:03:00</td>\n",
       "      <td>treatment</td>\n",
       "      <td>0</td>\n",
       "      <td>0</td>\n",
       "    </tr>\n",
       "    <tr>\n",
       "      <th>174614</th>\n",
       "      <td>630126</td>\n",
       "      <td>2017-01-07 03:25:00</td>\n",
       "      <td>treatment</td>\n",
       "      <td>0</td>\n",
       "      <td>0</td>\n",
       "    </tr>\n",
       "    <tr>\n",
       "      <th>115685</th>\n",
       "      <td>630137</td>\n",
       "      <td>2017-01-20 03:26:00</td>\n",
       "      <td>control</td>\n",
       "      <td>0</td>\n",
       "      <td>0</td>\n",
       "    </tr>\n",
       "  </tbody>\n",
       "</table>\n",
       "</div>"
      ],
      "text/plain": [
       "        user_id           timestamp      group  converted  hired\n",
       "30412    630052 2017-01-14 08:13:00  treatment          1      0\n",
       "266199   630052 2017-01-12 11:57:00  treatment          0      0\n",
       "275673   630126 2017-01-08 19:03:00  treatment          0      0\n",
       "174614   630126 2017-01-07 03:25:00  treatment          0      0\n",
       "115685   630137 2017-01-20 03:26:00    control          0      0"
      ]
     },
     "execution_count": 11,
     "metadata": {},
     "output_type": "execute_result"
    }
   ],
   "source": [
    "#create copy of dataframe to identify users who are in both the control and treatment groups\n",
    "both = dups_sorted.copy()\n",
    "both.head()"
   ]
  },
  {
   "cell_type": "code",
   "execution_count": 12,
   "metadata": {},
   "outputs": [
    {
     "data": {
      "text/html": [
       "<div>\n",
       "<style scoped>\n",
       "    .dataframe tbody tr th:only-of-type {\n",
       "        vertical-align: middle;\n",
       "    }\n",
       "\n",
       "    .dataframe tbody tr th {\n",
       "        vertical-align: top;\n",
       "    }\n",
       "\n",
       "    .dataframe thead th {\n",
       "        text-align: right;\n",
       "    }\n",
       "</style>\n",
       "<table border=\"1\" class=\"dataframe\">\n",
       "  <thead>\n",
       "    <tr style=\"text-align: right;\">\n",
       "      <th></th>\n",
       "      <th>user_id</th>\n",
       "      <th>group</th>\n",
       "    </tr>\n",
       "  </thead>\n",
       "  <tbody>\n",
       "    <tr>\n",
       "      <th>30412</th>\n",
       "      <td>630052</td>\n",
       "      <td>treatment</td>\n",
       "    </tr>\n",
       "    <tr>\n",
       "      <th>266199</th>\n",
       "      <td>630052</td>\n",
       "      <td>treatment</td>\n",
       "    </tr>\n",
       "    <tr>\n",
       "      <th>275673</th>\n",
       "      <td>630126</td>\n",
       "      <td>treatment</td>\n",
       "    </tr>\n",
       "    <tr>\n",
       "      <th>174614</th>\n",
       "      <td>630126</td>\n",
       "      <td>treatment</td>\n",
       "    </tr>\n",
       "    <tr>\n",
       "      <th>115685</th>\n",
       "      <td>630137</td>\n",
       "      <td>control</td>\n",
       "    </tr>\n",
       "  </tbody>\n",
       "</table>\n",
       "</div>"
      ],
      "text/plain": [
       "        user_id      group\n",
       "30412    630052  treatment\n",
       "266199   630052  treatment\n",
       "275673   630126  treatment\n",
       "174614   630126  treatment\n",
       "115685   630137    control"
      ]
     },
     "execution_count": 12,
     "metadata": {},
     "output_type": "execute_result"
    }
   ],
   "source": [
    "#drop all columns except for user_id and group\n",
    "both.drop(columns=['timestamp', 'converted', 'hired'], inplace=True)\n",
    "both.head()"
   ]
  },
  {
   "cell_type": "code",
   "execution_count": 13,
   "metadata": {},
   "outputs": [
    {
     "data": {
      "text/html": [
       "<div>\n",
       "<style scoped>\n",
       "    .dataframe tbody tr th:only-of-type {\n",
       "        vertical-align: middle;\n",
       "    }\n",
       "\n",
       "    .dataframe tbody tr th {\n",
       "        vertical-align: top;\n",
       "    }\n",
       "\n",
       "    .dataframe thead th {\n",
       "        text-align: right;\n",
       "    }\n",
       "</style>\n",
       "<table border=\"1\" class=\"dataframe\">\n",
       "  <thead>\n",
       "    <tr style=\"text-align: right;\">\n",
       "      <th></th>\n",
       "      <th>user_id</th>\n",
       "      <th>group</th>\n",
       "    </tr>\n",
       "  </thead>\n",
       "  <tbody>\n",
       "    <tr>\n",
       "      <th>0</th>\n",
       "      <td>630052</td>\n",
       "      <td>treatment</td>\n",
       "    </tr>\n",
       "    <tr>\n",
       "      <th>1</th>\n",
       "      <td>630126</td>\n",
       "      <td>treatment</td>\n",
       "    </tr>\n",
       "    <tr>\n",
       "      <th>2</th>\n",
       "      <td>630137</td>\n",
       "      <td>control</td>\n",
       "    </tr>\n",
       "    <tr>\n",
       "      <th>3</th>\n",
       "      <td>630320</td>\n",
       "      <td>control OR treatment</td>\n",
       "    </tr>\n",
       "    <tr>\n",
       "      <th>4</th>\n",
       "      <td>630471</td>\n",
       "      <td>control</td>\n",
       "    </tr>\n",
       "  </tbody>\n",
       "</table>\n",
       "</div>"
      ],
      "text/plain": [
       "   user_id                 group\n",
       "0   630052             treatment\n",
       "1   630126             treatment\n",
       "2   630137               control\n",
       "3   630320  control OR treatment\n",
       "4   630471               control"
      ]
     },
     "execution_count": 13,
     "metadata": {},
     "output_type": "execute_result"
    }
   ],
   "source": [
    "#group by 'user_id' and aggregate the 'group' column to identify users in both groups\n",
    "both_grouped = both.groupby('user_id')['group'].agg(lambda x: \" OR \".join(set(x))).reset_index()\n",
    "both_grouped.head()"
   ]
  },
  {
   "cell_type": "code",
   "execution_count": 14,
   "metadata": {},
   "outputs": [
    {
     "data": {
      "text/html": [
       "<div>\n",
       "<style scoped>\n",
       "    .dataframe tbody tr th:only-of-type {\n",
       "        vertical-align: middle;\n",
       "    }\n",
       "\n",
       "    .dataframe tbody tr th {\n",
       "        vertical-align: top;\n",
       "    }\n",
       "\n",
       "    .dataframe thead th {\n",
       "        text-align: right;\n",
       "    }\n",
       "</style>\n",
       "<table border=\"1\" class=\"dataframe\">\n",
       "  <thead>\n",
       "    <tr style=\"text-align: right;\">\n",
       "      <th></th>\n",
       "      <th>user_id</th>\n",
       "    </tr>\n",
       "  </thead>\n",
       "  <tbody>\n",
       "    <tr>\n",
       "      <th>3</th>\n",
       "      <td>630320</td>\n",
       "    </tr>\n",
       "    <tr>\n",
       "      <th>7</th>\n",
       "      <td>630805</td>\n",
       "    </tr>\n",
       "    <tr>\n",
       "      <th>8</th>\n",
       "      <td>630871</td>\n",
       "    </tr>\n",
       "    <tr>\n",
       "      <th>9</th>\n",
       "      <td>630887</td>\n",
       "    </tr>\n",
       "    <tr>\n",
       "      <th>10</th>\n",
       "      <td>631008</td>\n",
       "    </tr>\n",
       "  </tbody>\n",
       "</table>\n",
       "</div>"
      ],
      "text/plain": [
       "    user_id\n",
       "3    630320\n",
       "7    630805\n",
       "8    630871\n",
       "9    630887\n",
       "10   631008"
      ]
     },
     "execution_count": 14,
     "metadata": {},
     "output_type": "execute_result"
    }
   ],
   "source": [
    "#filter to only those that have a record in both groups\n",
    "both_grouped = both_grouped[both_grouped['group'].str.contains(\"control OR treatment|treatment OR control\")]\n",
    "\n",
    "#drop group column\n",
    "both_grouped.drop(columns=['group'], inplace=True)\n",
    "both_grouped.head()"
   ]
  },
  {
   "cell_type": "code",
   "execution_count": 15,
   "metadata": {},
   "outputs": [
    {
     "data": {
      "text/plain": [
       "1895"
      ]
     },
     "execution_count": 15,
     "metadata": {},
     "output_type": "execute_result"
    }
   ],
   "source": [
    "#check count of rows to remove (result x 2)\n",
    "both_grouped.shape[0]"
   ]
  },
  {
   "cell_type": "code",
   "execution_count": 16,
   "metadata": {},
   "outputs": [
    {
     "data": {
      "text/plain": [
       "294478"
      ]
     },
     "execution_count": 16,
     "metadata": {},
     "output_type": "execute_result"
    }
   ],
   "source": [
    "#re-check number of rows in original dataframe\n",
    "df.shape[0]"
   ]
  },
  {
   "cell_type": "code",
   "execution_count": 17,
   "metadata": {},
   "outputs": [
    {
     "data": {
      "text/html": [
       "<div>\n",
       "<style scoped>\n",
       "    .dataframe tbody tr th:only-of-type {\n",
       "        vertical-align: middle;\n",
       "    }\n",
       "\n",
       "    .dataframe tbody tr th {\n",
       "        vertical-align: top;\n",
       "    }\n",
       "\n",
       "    .dataframe thead th {\n",
       "        text-align: right;\n",
       "    }\n",
       "</style>\n",
       "<table border=\"1\" class=\"dataframe\">\n",
       "  <thead>\n",
       "    <tr style=\"text-align: right;\">\n",
       "      <th></th>\n",
       "      <th>user_id</th>\n",
       "      <th>timestamp</th>\n",
       "      <th>group</th>\n",
       "      <th>converted</th>\n",
       "      <th>hired</th>\n",
       "    </tr>\n",
       "  </thead>\n",
       "  <tbody>\n",
       "    <tr>\n",
       "      <th>0</th>\n",
       "      <td>864975</td>\n",
       "      <td>2017-01-21 22:11:00</td>\n",
       "      <td>control</td>\n",
       "      <td>1</td>\n",
       "      <td>1</td>\n",
       "    </tr>\n",
       "    <tr>\n",
       "      <th>1</th>\n",
       "      <td>644214</td>\n",
       "      <td>2017-01-12 08:01:00</td>\n",
       "      <td>control</td>\n",
       "      <td>1</td>\n",
       "      <td>1</td>\n",
       "    </tr>\n",
       "    <tr>\n",
       "      <th>2</th>\n",
       "      <td>913579</td>\n",
       "      <td>2017-01-11 16:55:00</td>\n",
       "      <td>control</td>\n",
       "      <td>1</td>\n",
       "      <td>1</td>\n",
       "    </tr>\n",
       "    <tr>\n",
       "      <th>3</th>\n",
       "      <td>831737</td>\n",
       "      <td>2017-01-08 18:28:00</td>\n",
       "      <td>control</td>\n",
       "      <td>1</td>\n",
       "      <td>1</td>\n",
       "    </tr>\n",
       "    <tr>\n",
       "      <th>4</th>\n",
       "      <td>862225</td>\n",
       "      <td>2017-01-21 01:52:00</td>\n",
       "      <td>control</td>\n",
       "      <td>1</td>\n",
       "      <td>1</td>\n",
       "    </tr>\n",
       "  </tbody>\n",
       "</table>\n",
       "</div>"
      ],
      "text/plain": [
       "   user_id           timestamp    group  converted  hired\n",
       "0   864975 2017-01-21 22:11:00  control          1      1\n",
       "1   644214 2017-01-12 08:01:00  control          1      1\n",
       "2   913579 2017-01-11 16:55:00  control          1      1\n",
       "3   831737 2017-01-08 18:28:00  control          1      1\n",
       "4   862225 2017-01-21 01:52:00  control          1      1"
      ]
     },
     "execution_count": 17,
     "metadata": {},
     "output_type": "execute_result"
    }
   ],
   "source": [
    "#merge on user_id with those matching indicated with \"both\"; dataframe is then filtered to remove \"both\"\n",
    "df_filtered = (\n",
    "    df.merge(both_grouped, \n",
    "              on=['user_id'],\n",
    "              how='left', \n",
    "              indicator=True)\n",
    "    .query('_merge != \"both\"')\n",
    "    .drop(columns='_merge')\n",
    ")\n",
    "df_filtered.head()"
   ]
  },
  {
   "cell_type": "code",
   "execution_count": 18,
   "metadata": {},
   "outputs": [
    {
     "data": {
      "text/plain": [
       "290688"
      ]
     },
     "execution_count": 18,
     "metadata": {},
     "output_type": "execute_result"
    }
   ],
   "source": [
    "#check number of rows in filtered dataframe to confirm removal of records\n",
    "df_filtered.shape[0]"
   ]
  },
  {
   "cell_type": "markdown",
   "metadata": {},
   "source": [
    "1,895 user ids were identified as having been sent to both the control and the treatment process pages.  That means that 3,790 records needed to be removed from the original dataframe and it was confirmed that the new, filtered dataframe contains 290,688 records which is 3,790 less that the original 294,478 records."
   ]
  },
  {
   "cell_type": "markdown",
   "metadata": {},
   "source": [
    "### Removing User Records for Situation 2"
   ]
  },
  {
   "cell_type": "code",
   "execution_count": 19,
   "metadata": {},
   "outputs": [
    {
     "data": {
      "text/plain": [
       "1999"
      ]
     },
     "execution_count": 19,
     "metadata": {},
     "output_type": "execute_result"
    }
   ],
   "source": [
    "#check number of duplicate user ids remaining\n",
    "df_filtered['user_id'].duplicated().sum()"
   ]
  },
  {
   "cell_type": "code",
   "execution_count": 20,
   "metadata": {},
   "outputs": [
    {
     "data": {
      "text/html": [
       "<div>\n",
       "<style scoped>\n",
       "    .dataframe tbody tr th:only-of-type {\n",
       "        vertical-align: middle;\n",
       "    }\n",
       "\n",
       "    .dataframe tbody tr th {\n",
       "        vertical-align: top;\n",
       "    }\n",
       "\n",
       "    .dataframe thead th {\n",
       "        text-align: right;\n",
       "    }\n",
       "</style>\n",
       "<table border=\"1\" class=\"dataframe\">\n",
       "  <thead>\n",
       "    <tr style=\"text-align: right;\">\n",
       "      <th></th>\n",
       "      <th>user_id</th>\n",
       "      <th>timestamp</th>\n",
       "      <th>group</th>\n",
       "      <th>converted</th>\n",
       "      <th>hired</th>\n",
       "    </tr>\n",
       "  </thead>\n",
       "  <tbody>\n",
       "    <tr>\n",
       "      <th>269163</th>\n",
       "      <td>945999</td>\n",
       "      <td>2017-01-22 03:35:00</td>\n",
       "      <td>treatment</td>\n",
       "      <td>0</td>\n",
       "      <td>0</td>\n",
       "    </tr>\n",
       "    <tr>\n",
       "      <th>141180</th>\n",
       "      <td>945998</td>\n",
       "      <td>2017-01-15 10:37:00</td>\n",
       "      <td>control</td>\n",
       "      <td>0</td>\n",
       "      <td>0</td>\n",
       "    </tr>\n",
       "    <tr>\n",
       "      <th>83284</th>\n",
       "      <td>945997</td>\n",
       "      <td>2017-01-05 06:59:00</td>\n",
       "      <td>control</td>\n",
       "      <td>0</td>\n",
       "      <td>0</td>\n",
       "    </tr>\n",
       "    <tr>\n",
       "      <th>286232</th>\n",
       "      <td>945996</td>\n",
       "      <td>2017-01-15 03:42:00</td>\n",
       "      <td>treatment</td>\n",
       "      <td>0</td>\n",
       "      <td>0</td>\n",
       "    </tr>\n",
       "    <tr>\n",
       "      <th>155809</th>\n",
       "      <td>945994</td>\n",
       "      <td>2017-01-15 16:19:00</td>\n",
       "      <td>control</td>\n",
       "      <td>0</td>\n",
       "      <td>0</td>\n",
       "    </tr>\n",
       "    <tr>\n",
       "      <th>107276</th>\n",
       "      <td>945993</td>\n",
       "      <td>2017-01-10 22:37:00</td>\n",
       "      <td>control</td>\n",
       "      <td>0</td>\n",
       "      <td>0</td>\n",
       "    </tr>\n",
       "    <tr>\n",
       "      <th>75891</th>\n",
       "      <td>945992</td>\n",
       "      <td>2017-01-19 00:25:00</td>\n",
       "      <td>control</td>\n",
       "      <td>0</td>\n",
       "      <td>0</td>\n",
       "    </tr>\n",
       "    <tr>\n",
       "      <th>10689</th>\n",
       "      <td>945991</td>\n",
       "      <td>2017-01-19 16:02:00</td>\n",
       "      <td>control</td>\n",
       "      <td>1</td>\n",
       "      <td>0</td>\n",
       "    </tr>\n",
       "    <tr>\n",
       "      <th>67771</th>\n",
       "      <td>945990</td>\n",
       "      <td>2017-01-11 08:19:00</td>\n",
       "      <td>control</td>\n",
       "      <td>0</td>\n",
       "      <td>0</td>\n",
       "    </tr>\n",
       "    <tr>\n",
       "      <th>21865</th>\n",
       "      <td>945989</td>\n",
       "      <td>2017-01-03 04:27:00</td>\n",
       "      <td>treatment</td>\n",
       "      <td>1</td>\n",
       "      <td>0</td>\n",
       "    </tr>\n",
       "    <tr>\n",
       "      <th>132248</th>\n",
       "      <td>945988</td>\n",
       "      <td>2017-01-18 05:59:00</td>\n",
       "      <td>control</td>\n",
       "      <td>0</td>\n",
       "      <td>0</td>\n",
       "    </tr>\n",
       "    <tr>\n",
       "      <th>21302</th>\n",
       "      <td>945987</td>\n",
       "      <td>2017-01-06 02:00:00</td>\n",
       "      <td>treatment</td>\n",
       "      <td>1</td>\n",
       "      <td>0</td>\n",
       "    </tr>\n",
       "    <tr>\n",
       "      <th>237056</th>\n",
       "      <td>945986</td>\n",
       "      <td>2017-01-19 15:23:00</td>\n",
       "      <td>treatment</td>\n",
       "      <td>0</td>\n",
       "      <td>0</td>\n",
       "    </tr>\n",
       "    <tr>\n",
       "      <th>41760</th>\n",
       "      <td>945985</td>\n",
       "      <td>2017-01-16 22:42:00</td>\n",
       "      <td>control</td>\n",
       "      <td>0</td>\n",
       "      <td>0</td>\n",
       "    </tr>\n",
       "    <tr>\n",
       "      <th>95079</th>\n",
       "      <td>945984</td>\n",
       "      <td>2017-01-04 05:47:00</td>\n",
       "      <td>control</td>\n",
       "      <td>0</td>\n",
       "      <td>0</td>\n",
       "    </tr>\n",
       "    <tr>\n",
       "      <th>33290</th>\n",
       "      <td>945983</td>\n",
       "      <td>2017-01-06 08:51:00</td>\n",
       "      <td>treatment</td>\n",
       "      <td>1</td>\n",
       "      <td>0</td>\n",
       "    </tr>\n",
       "    <tr>\n",
       "      <th>80681</th>\n",
       "      <td>945982</td>\n",
       "      <td>2017-01-05 02:57:00</td>\n",
       "      <td>control</td>\n",
       "      <td>0</td>\n",
       "      <td>0</td>\n",
       "    </tr>\n",
       "    <tr>\n",
       "      <th>116402</th>\n",
       "      <td>945981</td>\n",
       "      <td>2017-01-18 19:57:00</td>\n",
       "      <td>control</td>\n",
       "      <td>0</td>\n",
       "      <td>0</td>\n",
       "    </tr>\n",
       "    <tr>\n",
       "      <th>248617</th>\n",
       "      <td>945980</td>\n",
       "      <td>2017-01-08 19:23:00</td>\n",
       "      <td>treatment</td>\n",
       "      <td>0</td>\n",
       "      <td>0</td>\n",
       "    </tr>\n",
       "    <tr>\n",
       "      <th>185230</th>\n",
       "      <td>945979</td>\n",
       "      <td>2017-01-24 02:56:00</td>\n",
       "      <td>treatment</td>\n",
       "      <td>0</td>\n",
       "      <td>0</td>\n",
       "    </tr>\n",
       "    <tr>\n",
       "      <th>132554</th>\n",
       "      <td>945978</td>\n",
       "      <td>2017-01-17 16:01:00</td>\n",
       "      <td>control</td>\n",
       "      <td>0</td>\n",
       "      <td>0</td>\n",
       "    </tr>\n",
       "    <tr>\n",
       "      <th>70182</th>\n",
       "      <td>945977</td>\n",
       "      <td>2017-01-12 02:01:00</td>\n",
       "      <td>control</td>\n",
       "      <td>0</td>\n",
       "      <td>0</td>\n",
       "    </tr>\n",
       "    <tr>\n",
       "      <th>243856</th>\n",
       "      <td>945976</td>\n",
       "      <td>2017-01-03 03:50:00</td>\n",
       "      <td>treatment</td>\n",
       "      <td>0</td>\n",
       "      <td>0</td>\n",
       "    </tr>\n",
       "    <tr>\n",
       "      <th>292382</th>\n",
       "      <td>945975</td>\n",
       "      <td>2017-01-17 19:56:00</td>\n",
       "      <td>treatment</td>\n",
       "      <td>0</td>\n",
       "      <td>0</td>\n",
       "    </tr>\n",
       "    <tr>\n",
       "      <th>176803</th>\n",
       "      <td>945974</td>\n",
       "      <td>2017-01-21 22:43:00</td>\n",
       "      <td>treatment</td>\n",
       "      <td>0</td>\n",
       "      <td>0</td>\n",
       "    </tr>\n",
       "    <tr>\n",
       "      <th>52661</th>\n",
       "      <td>945973</td>\n",
       "      <td>2017-01-19 00:38:00</td>\n",
       "      <td>control</td>\n",
       "      <td>0</td>\n",
       "      <td>0</td>\n",
       "    </tr>\n",
       "    <tr>\n",
       "      <th>29458</th>\n",
       "      <td>945972</td>\n",
       "      <td>2017-01-22 16:22:00</td>\n",
       "      <td>treatment</td>\n",
       "      <td>1</td>\n",
       "      <td>0</td>\n",
       "    </tr>\n",
       "    <tr>\n",
       "      <th>107654</th>\n",
       "      <td>945971</td>\n",
       "      <td>2017-01-07 08:01:00</td>\n",
       "      <td>control</td>\n",
       "      <td>0</td>\n",
       "      <td>0</td>\n",
       "    </tr>\n",
       "    <tr>\n",
       "      <th>93055</th>\n",
       "      <td>945971</td>\n",
       "      <td>2017-01-06 04:00:00</td>\n",
       "      <td>control</td>\n",
       "      <td>0</td>\n",
       "      <td>0</td>\n",
       "    </tr>\n",
       "    <tr>\n",
       "      <th>1346</th>\n",
       "      <td>945970</td>\n",
       "      <td>2017-01-13 09:56:00</td>\n",
       "      <td>control</td>\n",
       "      <td>1</td>\n",
       "      <td>1</td>\n",
       "    </tr>\n",
       "  </tbody>\n",
       "</table>\n",
       "</div>"
      ],
      "text/plain": [
       "        user_id           timestamp      group  converted  hired\n",
       "269163   945999 2017-01-22 03:35:00  treatment          0      0\n",
       "141180   945998 2017-01-15 10:37:00    control          0      0\n",
       "83284    945997 2017-01-05 06:59:00    control          0      0\n",
       "286232   945996 2017-01-15 03:42:00  treatment          0      0\n",
       "155809   945994 2017-01-15 16:19:00    control          0      0\n",
       "107276   945993 2017-01-10 22:37:00    control          0      0\n",
       "75891    945992 2017-01-19 00:25:00    control          0      0\n",
       "10689    945991 2017-01-19 16:02:00    control          1      0\n",
       "67771    945990 2017-01-11 08:19:00    control          0      0\n",
       "21865    945989 2017-01-03 04:27:00  treatment          1      0\n",
       "132248   945988 2017-01-18 05:59:00    control          0      0\n",
       "21302    945987 2017-01-06 02:00:00  treatment          1      0\n",
       "237056   945986 2017-01-19 15:23:00  treatment          0      0\n",
       "41760    945985 2017-01-16 22:42:00    control          0      0\n",
       "95079    945984 2017-01-04 05:47:00    control          0      0\n",
       "33290    945983 2017-01-06 08:51:00  treatment          1      0\n",
       "80681    945982 2017-01-05 02:57:00    control          0      0\n",
       "116402   945981 2017-01-18 19:57:00    control          0      0\n",
       "248617   945980 2017-01-08 19:23:00  treatment          0      0\n",
       "185230   945979 2017-01-24 02:56:00  treatment          0      0\n",
       "132554   945978 2017-01-17 16:01:00    control          0      0\n",
       "70182    945977 2017-01-12 02:01:00    control          0      0\n",
       "243856   945976 2017-01-03 03:50:00  treatment          0      0\n",
       "292382   945975 2017-01-17 19:56:00  treatment          0      0\n",
       "176803   945974 2017-01-21 22:43:00  treatment          0      0\n",
       "52661    945973 2017-01-19 00:38:00    control          0      0\n",
       "29458    945972 2017-01-22 16:22:00  treatment          1      0\n",
       "107654   945971 2017-01-07 08:01:00    control          0      0\n",
       "93055    945971 2017-01-06 04:00:00    control          0      0\n",
       "1346     945970 2017-01-13 09:56:00    control          1      1"
      ]
     },
     "execution_count": 20,
     "metadata": {},
     "output_type": "execute_result"
    }
   ],
   "source": [
    "#sort records by user id and timestamp in ascending order so that newest record is on top\n",
    "df_filtered = df_filtered.sort_values(by=['user_id', 'timestamp'], ascending=False)\n",
    "df_filtered.head(30)"
   ]
  },
  {
   "cell_type": "code",
   "execution_count": 21,
   "metadata": {},
   "outputs": [
    {
     "data": {
      "text/plain": [
       "290688"
      ]
     },
     "execution_count": 21,
     "metadata": {},
     "output_type": "execute_result"
    }
   ],
   "source": [
    "#re-check number of records in dataframe\n",
    "df_filtered.shape[0]"
   ]
  },
  {
   "cell_type": "code",
   "execution_count": 22,
   "metadata": {},
   "outputs": [
    {
     "data": {
      "text/plain": [
       "288689"
      ]
     },
     "execution_count": 22,
     "metadata": {},
     "output_type": "execute_result"
    }
   ],
   "source": [
    "#drop duplicate user id records keeping first record\n",
    "df_filtered = df_filtered.drop_duplicates(subset=['user_id'], keep='first')\n",
    "df_filtered.shape[0]"
   ]
  },
  {
   "cell_type": "code",
   "execution_count": 23,
   "metadata": {},
   "outputs": [
    {
     "data": {
      "text/html": [
       "<div>\n",
       "<style scoped>\n",
       "    .dataframe tbody tr th:only-of-type {\n",
       "        vertical-align: middle;\n",
       "    }\n",
       "\n",
       "    .dataframe tbody tr th {\n",
       "        vertical-align: top;\n",
       "    }\n",
       "\n",
       "    .dataframe thead th {\n",
       "        text-align: right;\n",
       "    }\n",
       "</style>\n",
       "<table border=\"1\" class=\"dataframe\">\n",
       "  <thead>\n",
       "    <tr style=\"text-align: right;\">\n",
       "      <th></th>\n",
       "      <th>user_id</th>\n",
       "      <th>timestamp</th>\n",
       "      <th>group</th>\n",
       "      <th>converted</th>\n",
       "      <th>hired</th>\n",
       "    </tr>\n",
       "  </thead>\n",
       "  <tbody>\n",
       "    <tr>\n",
       "      <th>107654</th>\n",
       "      <td>945971</td>\n",
       "      <td>2017-01-07 08:01:00</td>\n",
       "      <td>control</td>\n",
       "      <td>0</td>\n",
       "      <td>0</td>\n",
       "    </tr>\n",
       "  </tbody>\n",
       "</table>\n",
       "</div>"
      ],
      "text/plain": [
       "        user_id           timestamp    group  converted  hired\n",
       "107654   945971 2017-01-07 08:01:00  control          0      0"
      ]
     },
     "execution_count": 23,
     "metadata": {},
     "output_type": "execute_result"
    }
   ],
   "source": [
    "#check specific user id 945971 to confirm removal of correct record\n",
    "user_check = df_filtered.query('user_id == 945971')\n",
    "user_check"
   ]
  },
  {
   "cell_type": "markdown",
   "metadata": {},
   "source": [
    "For the second situation, 1,999 duplicate records wered identified as needing to be removed. As the decision was made to keep the most recent record, the timestamp was sorted in ascending order before removing the duplicates and specifying that the first record should be kept.  This action was confirmed by looking specifically at user id 945971.  Prior to removing the duplicates, we can see that the user has two records: one on 1/6/2017 and one on 1/7/2017.  It was confirmed that the correct records was kept - the record from 1/7/2017. "
   ]
  },
  {
   "cell_type": "code",
   "execution_count": 24,
   "metadata": {},
   "outputs": [
    {
     "data": {
      "text/plain": [
       "0"
      ]
     },
     "execution_count": 24,
     "metadata": {},
     "output_type": "execute_result"
    }
   ],
   "source": [
    "#confirm no further duplicates in the dataframe\n",
    "df_filtered.duplicated().sum()"
   ]
  },
  {
   "cell_type": "markdown",
   "metadata": {},
   "source": [
    "### Basic EDA"
   ]
  },
  {
   "cell_type": "code",
   "execution_count": 25,
   "metadata": {},
   "outputs": [
    {
     "data": {
      "text/plain": [
       "144300"
      ]
     },
     "execution_count": 25,
     "metadata": {},
     "output_type": "execute_result"
    }
   ],
   "source": [
    "#count number of users in control group\n",
    "control = df_filtered.query('group == \"control\"')['group'].count()\n",
    "control"
   ]
  },
  {
   "cell_type": "code",
   "execution_count": 26,
   "metadata": {},
   "outputs": [
    {
     "data": {
      "text/plain": [
       "0.49984585488189714"
      ]
     },
     "execution_count": 26,
     "metadata": {},
     "output_type": "execute_result"
    }
   ],
   "source": [
    "#calculate proportion of control group\n",
    "control_pro = control / df_filtered.shape[0]\n",
    "control_pro"
   ]
  },
  {
   "cell_type": "code",
   "execution_count": 27,
   "metadata": {},
   "outputs": [
    {
     "data": {
      "text/plain": [
       "144389"
      ]
     },
     "execution_count": 27,
     "metadata": {},
     "output_type": "execute_result"
    }
   ],
   "source": [
    "#count number of user in treatment group\n",
    "treatment = df_filtered.query('group == \"treatment\"')['group'].count()\n",
    "treatment"
   ]
  },
  {
   "cell_type": "code",
   "execution_count": 28,
   "metadata": {},
   "outputs": [
    {
     "data": {
      "text/plain": [
       "0.5001541451181029"
      ]
     },
     "execution_count": 28,
     "metadata": {},
     "output_type": "execute_result"
    }
   ],
   "source": [
    "#calculate proportion of treatment group\n",
    "treatment_pro = treatment / df_filtered.shape[0]\n",
    "treatment_pro"
   ]
  },
  {
   "cell_type": "markdown",
   "metadata": {},
   "source": [
    "The above confirms that the percentage of users in each group is relatively equal.  This is important because the a/b test will reach statistical significance quicker when the groups are equal in size."
   ]
  },
  {
   "cell_type": "code",
   "execution_count": 29,
   "metadata": {},
   "outputs": [
    {
     "data": {
      "text/plain": [
       "0.11959236410116077"
      ]
     },
     "execution_count": 29,
     "metadata": {},
     "output_type": "execute_result"
    }
   ],
   "source": [
    "#calculate overall conversion rate\n",
    "convert_rate = df_filtered.query('converted == 1')['user_id'].count() / df_filtered.shape[0]\n",
    "convert_rate"
   ]
  },
  {
   "cell_type": "code",
   "execution_count": 30,
   "metadata": {},
   "outputs": [
    {
     "data": {
      "text/plain": [
       "0.12036729036729037"
      ]
     },
     "execution_count": 30,
     "metadata": {},
     "output_type": "execute_result"
    }
   ],
   "source": [
    "#calculate conversion rate for control\n",
    "control_prob = df_filtered.query('group == \"control\"')['converted'].mean()\n",
    "control_prob"
   ]
  },
  {
   "cell_type": "code",
   "execution_count": 31,
   "metadata": {},
   "outputs": [
    {
     "data": {
      "text/plain": [
       "0.11881791549217738"
      ]
     },
     "execution_count": 31,
     "metadata": {},
     "output_type": "execute_result"
    }
   ],
   "source": [
    "#calculate conversion rate for treatment\n",
    "treatment_prob = df_filtered.query('group == \"treatment\"')['converted'].mean()\n",
    "treatment_prob"
   ]
  },
  {
   "cell_type": "code",
   "execution_count": 32,
   "metadata": {},
   "outputs": [
    {
     "data": {
      "text/plain": [
       "-0.0015493748751129882"
      ]
     },
     "execution_count": 32,
     "metadata": {},
     "output_type": "execute_result"
    }
   ],
   "source": [
    "#calculate the actual difference (obs_diff) between conversion rates for the two groups.\n",
    "obs_diff = treatment_prob - control_prob\n",
    "obs_diff"
   ]
  },
  {
   "cell_type": "markdown",
   "metadata": {},
   "source": [
    "Based on the current test length of approximately 21 days, the treatment group conversion rate of 11.88% appears to be less than that of the control group which had a conversion rate of about 12.04%. The probability of being sent to the new application process was around 50%, so our groups appear to be evenly split between old process/control and new process/treatment.  It does not appear that the new page leads to more conversions, but further testing is recommended."
   ]
  },
  {
   "cell_type": "markdown",
   "metadata": {},
   "source": [
    "<a id='ab_test'></a>\n",
    "## Part II - A/B Test\n",
    "\n"
   ]
  },
  {
   "cell_type": "markdown",
   "metadata": {},
   "source": [
    "Prior to performing the A/B test, the daily conversion rates will need to be calculated.  The difference between the mean daily conversion rates in each group is what will be tested.  "
   ]
  },
  {
   "cell_type": "code",
   "execution_count": 33,
   "metadata": {},
   "outputs": [
    {
     "name": "stdout",
     "output_type": "stream",
     "text": [
      "    day  control_conversion  treatment_conversion\n",
      "0     2            0.126478              0.125176\n",
      "1     3            0.114997              0.119654\n",
      "2     4            0.123985              0.118216\n",
      "3     5            0.113693              0.113822\n",
      "4     6            0.118982              0.126599\n",
      "5     7            0.119276              0.113050\n",
      "6     8            0.121231              0.121624\n",
      "7     9            0.121828              0.122477\n",
      "8    10            0.128482              0.115209\n",
      "9    11            0.123435              0.123896\n",
      "10   12            0.122831              0.114321\n",
      "11   13            0.125038              0.116659\n",
      "12   14            0.118358              0.115774\n",
      "13   15            0.120504              0.116829\n",
      "14   16            0.118585              0.122273\n",
      "15   17            0.118403              0.116431\n",
      "16   18            0.120777              0.119380\n",
      "17   19            0.111060              0.123993\n",
      "18   20            0.122807              0.115396\n",
      "19   21            0.120444              0.118419\n",
      "20   22            0.120724              0.124568\n",
      "21   23            0.116737              0.118994\n",
      "22   24            0.124900              0.108702\n"
     ]
    }
   ],
   "source": [
    "# Group by 'day', 'group', and calculate mean 'converted'\n",
    "grouped_df = df_filtered.groupby([df_filtered['timestamp'].dt.day, 'group'])['converted'].mean().reset_index()\n",
    "\n",
    "# Pivot the DataFrame to get the desired format\n",
    "daily_conversions = grouped_df.pivot(index='timestamp', columns='group', values='converted').reset_index()\n",
    "\n",
    "# Rename the columns for clarity\n",
    "daily_conversions.columns = ['day', 'control_conversion', 'treatment_conversion']\n",
    "\n",
    "# Display the result\n",
    "print(daily_conversions)"
   ]
  },
  {
   "cell_type": "markdown",
   "metadata": {},
   "source": [
    "To reiterate, the null hypothesis for this test is that the conversion rate for the old application process 1 (control group) is the same or better than the new application process 2 (treatment group).  The following plots show the distribution of the conversion rates for the control and treatment groups."
   ]
  },
  {
   "cell_type": "code",
   "execution_count": 34,
   "metadata": {},
   "outputs": [
    {
     "data": {
      "image/png": "[encoded data removed]",
      "text/plain": [
       "<Figure size 640x480 with 1 Axes>"
      ]
     },
     "metadata": {},
     "output_type": "display_data"
    }
   ],
   "source": [
    "#plot distribution of control conversion rates\n",
    "sns.histplot(daily_conversions.control_conversion, kde=True)\n",
    "plt.show()"
   ]
  },
  {
   "cell_type": "code",
   "execution_count": 35,
   "metadata": {
    "scrolled": true
   },
   "outputs": [
    {
     "data": {
      "image/png": "[encoded data removed]",
      "text/plain": [
       "<Figure size 640x480 with 1 Axes>"
      ]
     },
     "metadata": {},
     "output_type": "display_data"
    }
   ],
   "source": [
    "#plot distribution of treatment conversion rates\n",
    "sns.histplot(daily_conversions.treatment_conversion, kde=True)\n",
    "plt.show()"
   ]
  },
  {
   "cell_type": "code",
   "execution_count": 36,
   "metadata": {},
   "outputs": [
    {
     "data": {
      "image/png": "[encoded data removed]",
      "text/plain": [
       "<Figure size 640x480 with 1 Axes>"
      ]
     },
     "metadata": {},
     "output_type": "display_data"
    }
   ],
   "source": [
    "# Calculating the means\n",
    "mean_control = np.mean(daily_conversions.control_conversion)\n",
    "mean_treatment = np.mean(daily_conversions.treatment_conversion)\n",
    "\n",
    "# Plotting the data with mean lines showing difference in means for each group\n",
    "plt.hist(daily_conversions.control_conversion, alpha=0.5, label='Control Conversions')\n",
    "plt.hist(daily_conversions.treatment_conversion, alpha=0.5, label='Treatment Conversions')\n",
    "plt.axvline(mean_control, color='blue', linestyle='dashed', linewidth=1)\n",
    "plt.axvline(mean_treatment, color='orange', linestyle='dashed', linewidth=1)\n",
    "plt.legend(loc='upper left')\n",
    "plt.show()"
   ]
  },
  {
   "cell_type": "markdown",
   "metadata": {},
   "source": [
    "In order to determine if the null hypothesis should be rejected or not, statistical significance must be proved.  In this way, we can know that the difference seen is not due to error or random chance.  In order to determine statistical significance, the two-sample t-test will be used.  The t-test is an appropriate test because, in this case, we do not know the population variance and because our sample size (days) is small (<30).  "
   ]
  },
  {
   "cell_type": "code",
   "execution_count": 37,
   "metadata": {},
   "outputs": [
    {
     "data": {
      "text/plain": [
       "(-1.4376161989736334, 0.15761726431277076)"
      ]
     },
     "execution_count": 37,
     "metadata": {},
     "output_type": "execute_result"
    }
   ],
   "source": [
    "#perform t-test to get t\n",
    "t_stat, p_val = ss.ttest_ind(daily_conversions.treatment_conversion, daily_conversions.control_conversion)\n",
    "t_stat, p_val"
   ]
  },
  {
   "cell_type": "markdown",
   "metadata": {},
   "source": [
    "<a id='conclusion'></a>\n",
    "### Part III - Conclusion\n"
   ]
  },
  {
   "cell_type": "markdown",
   "metadata": {},
   "source": [
    "The p-value indicates the probability that the difference between two values is due to random chance.  A smaller p-value points to rejecting the null hypothesis, while a larger p-value indicates a failure to reject the null hypothesis.  In general practice, a significance level of 0.05 is used, meaning that if the p-value is less than 0.05, we would reject the null hypothesis.  \n",
    "\n",
    "In this case, the p-value is not significant and higher than the 0.05 error rate (0.1576); therefore, we have failed to reject the null hypothesis.  There is insufficient evidence to conclude that the new application process is better than the existing application process.  From a practical standpoint, the cost of implementing the new application process seems greater than any benefit received, thus, the recommendation would be to keep the current application process in place."
   ]
  }
 ],
 "metadata": {
  "kernelspec": {
   "display_name": "Python 3 (ipykernel)",
   "language": "python",
   "name": "python3"
  },
  "language_info": {
   "codemirror_mode": {
    "name": "ipython",
    "version": 3
   },
   "file_extension": ".py",
   "mimetype": "text/x-python",
   "name": "python",
   "nbconvert_exporter": "python",
   "pygments_lexer": "ipython3",
   "version": "3.11.4"
  }
 },
 "nbformat": 4,
 "nbformat_minor": 2
}
